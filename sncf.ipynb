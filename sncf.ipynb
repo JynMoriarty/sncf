{
 "cells": [
  {
   "cell_type": "code",
   "execution_count": 11,
   "metadata": {},
   "outputs": [],
   "source": [
    "import requests\n"
   ]
  },
  {
   "cell_type": "code",
   "execution_count": 12,
   "metadata": {},
   "outputs": [],
   "source": [
    "URL = \"https://ressources.data.sncf.com/api/records/1.0/search/?dataset=objets-trouves-restitution&q=date:[2016-01-01T00:00:00Z+TO+2021-12-31T23:59:59Z]&sort=-date&rows=-1\"\n",
    "\n"
   ]
  },
  {
   "cell_type": "code",
   "execution_count": 13,
   "metadata": {},
   "outputs": [],
   "source": [
    "r= requests.get(url= URL)\n",
    "data = r.json()"
   ]
  },
  {
   "cell_type": "code",
   "execution_count": null,
   "metadata": {},
   "outputs": [],
   "source": []
  },
  {
   "cell_type": "code",
   "execution_count": 14,
   "metadata": {},
   "outputs": [
    {
     "data": {
      "text/plain": [
       "['01', '02', '03', '04', '05', '06', '07', '08', '09', '10', '11', '12']"
      ]
     },
     "execution_count": 14,
     "metadata": {},
     "output_type": "execute_result"
    }
   ],
   "source": [
    "liste_annee = [str(i) for i in range(2016,2022)]\n",
    "liste_mois = [str(0)+str(i) for i in range(1,10)]\n",
    "for i in range(10,13):\n",
    "    liste_mois.append(str(i))\n",
    "liste_mois\n",
    "\n"
   ]
  },
  {
   "cell_type": "code",
   "execution_count": 19,
   "metadata": {},
   "outputs": [],
   "source": [
    "import sqlite3\n",
    "\n",
    "connexion = sqlite3.connect('sncf.db')\n",
    "curseur = connexion.cursor()\n",
    "\n",
    "curseur.execute('''CREATE TABLE Sncf\n",
    "               (\n",
    "                    id INTEGER PRIMARY KEY,\n",
    "                    type TEXT,\n",
    "                    nature TEXT,\n",
    "                    date TEXT,\n",
    "                    gare TEXT,\n",
    "                    uic INTEGER\n",
    "                   \n",
    "                )\n",
    "''')\n",
    "connexion.commit()\n",
    "connexion.close()"
   ]
  },
  {
   "cell_type": "code",
   "execution_count": 16,
   "metadata": {},
   "outputs": [],
   "source": [
    "connexion = connexion = sqlite3.connect('sncf.db')\n",
    "curseur = connexion.cursor()\n",
    "\n",
    "\n",
    "liste_data = []\n",
    "for annee in liste_annee:\n",
    "    for mois in liste_mois:\n",
    "        url = 'https://ressources.data.sncf.com/api/records/1.0/search/?dataset=objets-trouves-restitution&sort=-date&rows=-1&refine.date={}/{}'.format(annee,mois)\n",
    "        liste_data = requests.get(url).json()\n",
    "        for j in range(len(liste_data['records'])) :\n",
    "            try :\n",
    "                type = liste_data['records'][j]['fields']['gc_obo_type_c']\n",
    "            except :\n",
    "                type = 'None'\n",
    "            try:\n",
    "                nature = liste_data['records'][j]['fields']['gc_obo_nature_c']\n",
    "            except:\n",
    "                nature = 'None'\n",
    "            try : \n",
    "                date = liste_data['records'][j]['fields']['date']\n",
    "            except:\n",
    "                date = 'None'\n",
    "            try :\n",
    "                gare = liste_data['records'][j]['fields']['gc_obo_gare_origine_r_name']\n",
    "            except:\n",
    "                gare = 'None'\n",
    "            try:\n",
    "                uic = liste_data['records'][j]['fields']['gc_obo_gare_origine_r_code_uic_c']\n",
    "            except:\n",
    "                uic= 'None'\n",
    "           \n",
    "            curseur.execute(\"INSERT INTO Sncf (type,nature,date,gare,uic) VALUES (?,?,?,?,?)\",(type,nature,date,gare,uic))\n",
    "connexion.commit()\n",
    "connexion.close()   "
   ]
  },
  {
   "cell_type": "code",
   "execution_count": 17,
   "metadata": {},
   "outputs": [],
   "source": [
    "# connexion = connexion = sqlite3.connect('sncf.db')\n",
    "# curseur = connexion.cursor()\n",
    "\n",
    "# for i in range(72):\n",
    "#     for j in range(len(liste_data[i]['records'])) :\n",
    "#         try :\n",
    "#             type = liste_data[i]['records'][j]['fields']['gc_obo_type_c']\n",
    "#         except :\n",
    "#             type = 'None'\n",
    "#         try:\n",
    "#             nature = liste_data[i]['records'][j]['fields']['gc_obo_nature_c']\n",
    "#         except:\n",
    "#             nature = 'None'\n",
    "#         try : \n",
    "#             date = liste_data[i]['records'][j]['fields']['date']\n",
    "#         except:\n",
    "#             date = 'None'\n",
    "#         try :\n",
    "#             gare = liste_data[i]['records'][j]['fields']['gc_obo_gare_origine_r_name']\n",
    "#         except:\n",
    "#             gare = 'None'\n",
    "        \n",
    "#         curseur.execute(\"INSERT INTO Sncf (type,nature,date,gare) VALUES (?,?,?,?)\",(type,nature,date,gare))\n",
    "# connexion.commit()\n",
    "# connexion.close()        \n"
   ]
  }
 ],
 "metadata": {
  "kernelspec": {
   "display_name": "Python 3",
   "language": "python",
   "name": "python3"
  },
  "language_info": {
   "codemirror_mode": {
    "name": "ipython",
    "version": 3
   },
   "file_extension": ".py",
   "mimetype": "text/x-python",
   "name": "python",
   "nbconvert_exporter": "python",
   "pygments_lexer": "ipython3",
   "version": "3.10.6 (main, Nov 14 2022, 16:10:14) [GCC 11.3.0]"
  },
  "orig_nbformat": 4,
  "vscode": {
   "interpreter": {
    "hash": "916dbcbb3f70747c44a77c7bcd40155683ae19c65e1c03b4aa3499c5328201f1"
   }
  }
 },
 "nbformat": 4,
 "nbformat_minor": 2
}
